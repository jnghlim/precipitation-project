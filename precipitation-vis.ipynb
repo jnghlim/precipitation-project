{
 "metadata": {
  "language_info": {
   "codemirror_mode": {
    "name": "ipython",
    "version": 3
   },
   "file_extension": ".py",
   "mimetype": "text/x-python",
   "name": "python",
   "nbconvert_exporter": "python",
   "pygments_lexer": "ipython3",
   "version": "3.8.5"
  },
  "orig_nbformat": 4,
  "kernelspec": {
   "name": "python3",
   "display_name": "Python 3.8.5 64-bit ('base': conda)"
  },
  "interpreter": {
   "hash": "73b6ae8506bdc19ed589a00e1d262f774847aba16200b38cb2aa76144baf0813"
  }
 },
 "nbformat": 4,
 "nbformat_minor": 2,
 "cells": [
  {
   "cell_type": "code",
   "execution_count": 8,
   "metadata": {},
   "outputs": [],
   "source": [
    "import pandas as pd\n",
    "import numpy as np\n",
    "import matplotlib.pyplot as plt\n",
    "import seaborn as sns"
   ]
  },
  {
   "cell_type": "code",
   "execution_count": 160,
   "metadata": {},
   "outputs": [
    {
     "output_type": "execute_result",
     "data": {
      "text/plain": [
       "19"
      ]
     },
     "metadata": {},
     "execution_count": 160
    }
   ],
   "source": [
    "data_holder = {}\n",
    "min_year = 2002\n",
    "max_year = 2020\n",
    "\n",
    "for year in range(min_year, max_year+1):\n",
    "    data_holder['data_'+str(year)] = pd.read_csv(f'weather_of_{year}.csv')\n",
    "\n",
    "len(data_holder)"
   ]
  },
  {
   "cell_type": "code",
   "execution_count": 153,
   "metadata": {},
   "outputs": [
    {
     "output_type": "execute_result",
     "data": {
      "text/plain": [
       "      ID          LOCATION   OCT    NOV    DEC    JAN   FEB   MAR   APR   MAY  \\\n",
       "0    4BK         BROOKINGS  6.43  14.53  17.32  17.32  9.10  6.05  6.62  3.65   \n",
       "1  ASHO3           ASHLAND  0.38   3.50   3.41   1.32  1.29  1.29  2.92  1.88   \n",
       "2  CVJO3     CAVE JUNCTION  2.46  13.60  14.81   9.76  6.46  4.63  1.94  0.89   \n",
       "3  GOLO3        GOLD BEACH  4.63  11.72  16.59  14.58  8.89  6.62  4.73  1.50   \n",
       "4  GPSO3  GRANTS PASS KAJO  0.39   6.37   6.94   4.31  2.89  1.36  0.87  0.62   \n",
       "\n",
       "    JUN   JUL   AUG   SEP  WY Total  Pct Avg to Date  \n",
       "0  3.68  0.02  0.03  1.45     86.20            117.0  \n",
       "1  0.08  0.28  0.00  0.20     16.55             84.0  \n",
       "2  0.00  0.00  0.00  0.33     54.88             88.0  \n",
       "3  2.09  0.02  0.00  0.62     71.99             91.0  \n",
       "4  0.02  0.00  0.00  0.05     23.82             77.0  "
      ],
      "text/html": "<div>\n<style scoped>\n    .dataframe tbody tr th:only-of-type {\n        vertical-align: middle;\n    }\n\n    .dataframe tbody tr th {\n        vertical-align: top;\n    }\n\n    .dataframe thead th {\n        text-align: right;\n    }\n</style>\n<table border=\"1\" class=\"dataframe\">\n  <thead>\n    <tr style=\"text-align: right;\">\n      <th></th>\n      <th>ID</th>\n      <th>LOCATION</th>\n      <th>OCT</th>\n      <th>NOV</th>\n      <th>DEC</th>\n      <th>JAN</th>\n      <th>FEB</th>\n      <th>MAR</th>\n      <th>APR</th>\n      <th>MAY</th>\n      <th>JUN</th>\n      <th>JUL</th>\n      <th>AUG</th>\n      <th>SEP</th>\n      <th>WY Total</th>\n      <th>Pct Avg to Date</th>\n    </tr>\n  </thead>\n  <tbody>\n    <tr>\n      <th>0</th>\n      <td>4BK</td>\n      <td>BROOKINGS</td>\n      <td>6.43</td>\n      <td>14.53</td>\n      <td>17.32</td>\n      <td>17.32</td>\n      <td>9.10</td>\n      <td>6.05</td>\n      <td>6.62</td>\n      <td>3.65</td>\n      <td>3.68</td>\n      <td>0.02</td>\n      <td>0.03</td>\n      <td>1.45</td>\n      <td>86.20</td>\n      <td>117.0</td>\n    </tr>\n    <tr>\n      <th>1</th>\n      <td>ASHO3</td>\n      <td>ASHLAND</td>\n      <td>0.38</td>\n      <td>3.50</td>\n      <td>3.41</td>\n      <td>1.32</td>\n      <td>1.29</td>\n      <td>1.29</td>\n      <td>2.92</td>\n      <td>1.88</td>\n      <td>0.08</td>\n      <td>0.28</td>\n      <td>0.00</td>\n      <td>0.20</td>\n      <td>16.55</td>\n      <td>84.0</td>\n    </tr>\n    <tr>\n      <th>2</th>\n      <td>CVJO3</td>\n      <td>CAVE JUNCTION</td>\n      <td>2.46</td>\n      <td>13.60</td>\n      <td>14.81</td>\n      <td>9.76</td>\n      <td>6.46</td>\n      <td>4.63</td>\n      <td>1.94</td>\n      <td>0.89</td>\n      <td>0.00</td>\n      <td>0.00</td>\n      <td>0.00</td>\n      <td>0.33</td>\n      <td>54.88</td>\n      <td>88.0</td>\n    </tr>\n    <tr>\n      <th>3</th>\n      <td>GOLO3</td>\n      <td>GOLD BEACH</td>\n      <td>4.63</td>\n      <td>11.72</td>\n      <td>16.59</td>\n      <td>14.58</td>\n      <td>8.89</td>\n      <td>6.62</td>\n      <td>4.73</td>\n      <td>1.50</td>\n      <td>2.09</td>\n      <td>0.02</td>\n      <td>0.00</td>\n      <td>0.62</td>\n      <td>71.99</td>\n      <td>91.0</td>\n    </tr>\n    <tr>\n      <th>4</th>\n      <td>GPSO3</td>\n      <td>GRANTS PASS KAJO</td>\n      <td>0.39</td>\n      <td>6.37</td>\n      <td>6.94</td>\n      <td>4.31</td>\n      <td>2.89</td>\n      <td>1.36</td>\n      <td>0.87</td>\n      <td>0.62</td>\n      <td>0.02</td>\n      <td>0.00</td>\n      <td>0.00</td>\n      <td>0.05</td>\n      <td>23.82</td>\n      <td>77.0</td>\n    </tr>\n  </tbody>\n</table>\n</div>"
     },
     "metadata": {},
     "execution_count": 153
    }
   ],
   "source": [
    "data_2002 = Data(2002)\n",
    "data_2002.dataframe.head()"
   ]
  },
  {
   "cell_type": "code",
   "execution_count": 10,
   "metadata": {},
   "outputs": [
    {
     "output_type": "execute_result",
     "data": {
      "text/plain": [
       "      ID          LOCATION   OCT    NOV    DEC    JAN   FEB   MAR   APR   MAY  \\\n",
       "0    4BK         BROOKINGS  6.43  14.53  17.32  17.32  9.10  6.05  6.62  3.65   \n",
       "1  ASHO3           ASHLAND  0.38   3.50   3.41   1.32  1.29  1.29  2.92  1.88   \n",
       "2  CVJO3     CAVE JUNCTION  2.46  13.60  14.81   9.76  6.46  4.63  1.94  0.89   \n",
       "3  GOLO3        GOLD BEACH  4.63  11.72  16.59  14.58  8.89  6.62  4.73  1.50   \n",
       "4  GPSO3  GRANTS PASS KAJO  0.39   6.37   6.94   4.31  2.89  1.36  0.87  0.62   \n",
       "\n",
       "    JUN   JUL   AUG   SEP  WY Total  Pct Avg to Date  \n",
       "0  3.68  0.02  0.03  1.45     86.20            117.0  \n",
       "1  0.08  0.28  0.00  0.20     16.55             84.0  \n",
       "2  0.00  0.00  0.00  0.33     54.88             88.0  \n",
       "3  2.09  0.02  0.00  0.62     71.99             91.0  \n",
       "4  0.02  0.00  0.00  0.05     23.82             77.0  "
      ],
      "text/html": "<div>\n<style scoped>\n    .dataframe tbody tr th:only-of-type {\n        vertical-align: middle;\n    }\n\n    .dataframe tbody tr th {\n        vertical-align: top;\n    }\n\n    .dataframe thead th {\n        text-align: right;\n    }\n</style>\n<table border=\"1\" class=\"dataframe\">\n  <thead>\n    <tr style=\"text-align: right;\">\n      <th></th>\n      <th>ID</th>\n      <th>LOCATION</th>\n      <th>OCT</th>\n      <th>NOV</th>\n      <th>DEC</th>\n      <th>JAN</th>\n      <th>FEB</th>\n      <th>MAR</th>\n      <th>APR</th>\n      <th>MAY</th>\n      <th>JUN</th>\n      <th>JUL</th>\n      <th>AUG</th>\n      <th>SEP</th>\n      <th>WY Total</th>\n      <th>Pct Avg to Date</th>\n    </tr>\n  </thead>\n  <tbody>\n    <tr>\n      <th>0</th>\n      <td>4BK</td>\n      <td>BROOKINGS</td>\n      <td>6.43</td>\n      <td>14.53</td>\n      <td>17.32</td>\n      <td>17.32</td>\n      <td>9.10</td>\n      <td>6.05</td>\n      <td>6.62</td>\n      <td>3.65</td>\n      <td>3.68</td>\n      <td>0.02</td>\n      <td>0.03</td>\n      <td>1.45</td>\n      <td>86.20</td>\n      <td>117.0</td>\n    </tr>\n    <tr>\n      <th>1</th>\n      <td>ASHO3</td>\n      <td>ASHLAND</td>\n      <td>0.38</td>\n      <td>3.50</td>\n      <td>3.41</td>\n      <td>1.32</td>\n      <td>1.29</td>\n      <td>1.29</td>\n      <td>2.92</td>\n      <td>1.88</td>\n      <td>0.08</td>\n      <td>0.28</td>\n      <td>0.00</td>\n      <td>0.20</td>\n      <td>16.55</td>\n      <td>84.0</td>\n    </tr>\n    <tr>\n      <th>2</th>\n      <td>CVJO3</td>\n      <td>CAVE JUNCTION</td>\n      <td>2.46</td>\n      <td>13.60</td>\n      <td>14.81</td>\n      <td>9.76</td>\n      <td>6.46</td>\n      <td>4.63</td>\n      <td>1.94</td>\n      <td>0.89</td>\n      <td>0.00</td>\n      <td>0.00</td>\n      <td>0.00</td>\n      <td>0.33</td>\n      <td>54.88</td>\n      <td>88.0</td>\n    </tr>\n    <tr>\n      <th>3</th>\n      <td>GOLO3</td>\n      <td>GOLD BEACH</td>\n      <td>4.63</td>\n      <td>11.72</td>\n      <td>16.59</td>\n      <td>14.58</td>\n      <td>8.89</td>\n      <td>6.62</td>\n      <td>4.73</td>\n      <td>1.50</td>\n      <td>2.09</td>\n      <td>0.02</td>\n      <td>0.00</td>\n      <td>0.62</td>\n      <td>71.99</td>\n      <td>91.0</td>\n    </tr>\n    <tr>\n      <th>4</th>\n      <td>GPSO3</td>\n      <td>GRANTS PASS KAJO</td>\n      <td>0.39</td>\n      <td>6.37</td>\n      <td>6.94</td>\n      <td>4.31</td>\n      <td>2.89</td>\n      <td>1.36</td>\n      <td>0.87</td>\n      <td>0.62</td>\n      <td>0.02</td>\n      <td>0.00</td>\n      <td>0.00</td>\n      <td>0.05</td>\n      <td>23.82</td>\n      <td>77.0</td>\n    </tr>\n  </tbody>\n</table>\n</div>"
     },
     "metadata": {},
     "execution_count": 10
    }
   ],
   "source": [
    "data_2002.head()"
   ]
  },
  {
   "cell_type": "code",
   "execution_count": 146,
   "metadata": {},
   "outputs": [
    {
     "output_type": "execute_result",
     "data": {
      "text/plain": [
       "18"
      ]
     },
     "metadata": {},
     "execution_count": 146
    }
   ],
   "source": [
    "data_2002.isna().any(axis=1).sum()"
   ]
  },
  {
   "source": [
    "Tried to fill NA values which are in 'Pct Avg to Date', but I could not figure out how to calculate for this column and it turns out that there are only few rows that are missing this column so I decided to drop these rows that consist NA values in 'Pct Avg to Date' column"
   ],
   "cell_type": "markdown",
   "metadata": {}
  },
  {
   "cell_type": "code",
   "execution_count": 148,
   "metadata": {},
   "outputs": [
    {
     "output_type": "execute_result",
     "data": {
      "text/plain": [
       "        ID          LOCATION   OCT    NOV    DEC    JAN   FEB   MAR   APR  \\\n",
       "0      4BK         BROOKINGS  6.43  14.53  17.32  17.32  9.10  6.05  6.62   \n",
       "1    ASHO3           ASHLAND  0.38   3.50   3.41   1.32  1.29  1.29  2.92   \n",
       "2    CVJO3     CAVE JUNCTION  2.46  13.60  14.81   9.76  6.46  4.63  1.94   \n",
       "3    GOLO3        GOLD BEACH  4.63  11.72  16.59  14.58  8.89  6.62  4.73   \n",
       "4    GPSO3  GRANTS PASS KAJO  0.39   6.37   6.94   4.31  2.89  1.36  0.87   \n",
       "..     ...               ...   ...    ...    ...    ...   ...   ...   ...   \n",
       "319  LENN2   GREAT BASIN N P  0.97   1.44   0.98   0.75  0.30  0.99  1.42   \n",
       "320  MNTN2          MONTELLO  0.03   1.22   0.40   0.85  0.00  0.43  1.44   \n",
       "321  CDEU1     CEDAR CITY 5E  0.30   1.00   1.05   0.32  0.25  0.94  0.24   \n",
       "322  EMRU1        ENTERPRISE  0.47   1.34   0.65   0.03  0.03  0.10  0.38   \n",
       "323  MLFU1           MILFORD  0.25   0.93   1.07   0.18  0.15  1.20  0.83   \n",
       "\n",
       "      MAY   JUN   JUL   AUG   SEP  WY Total  Pct Avg to Date  \n",
       "0    3.65  3.68  0.02  0.03  1.45     86.20            117.0  \n",
       "1    1.88  0.08  0.28  0.00  0.20     16.55             84.0  \n",
       "2    0.89  0.00  0.00  0.00  0.33     54.88             88.0  \n",
       "3    1.50  2.09  0.02  0.00  0.62     71.99             91.0  \n",
       "4    0.62  0.02  0.00  0.00  0.05     23.82             77.0  \n",
       "..    ...   ...   ...   ...   ...       ...              ...  \n",
       "319  0.53  1.48  1.28  0.33  1.09     11.56             85.0  \n",
       "320  0.75  0.31  0.67  0.00  1.51      7.61             90.0  \n",
       "321  0.02  0.00  0.39  0.18  1.46      6.15             41.0  \n",
       "322  0.00  0.00  0.13  0.00  1.81      4.94             33.0  \n",
       "323  0.02  0.02  1.06  0.35  1.40      7.46             73.0  \n",
       "\n",
       "[306 rows x 16 columns]"
      ],
      "text/html": "<div>\n<style scoped>\n    .dataframe tbody tr th:only-of-type {\n        vertical-align: middle;\n    }\n\n    .dataframe tbody tr th {\n        vertical-align: top;\n    }\n\n    .dataframe thead th {\n        text-align: right;\n    }\n</style>\n<table border=\"1\" class=\"dataframe\">\n  <thead>\n    <tr style=\"text-align: right;\">\n      <th></th>\n      <th>ID</th>\n      <th>LOCATION</th>\n      <th>OCT</th>\n      <th>NOV</th>\n      <th>DEC</th>\n      <th>JAN</th>\n      <th>FEB</th>\n      <th>MAR</th>\n      <th>APR</th>\n      <th>MAY</th>\n      <th>JUN</th>\n      <th>JUL</th>\n      <th>AUG</th>\n      <th>SEP</th>\n      <th>WY Total</th>\n      <th>Pct Avg to Date</th>\n    </tr>\n  </thead>\n  <tbody>\n    <tr>\n      <th>0</th>\n      <td>4BK</td>\n      <td>BROOKINGS</td>\n      <td>6.43</td>\n      <td>14.53</td>\n      <td>17.32</td>\n      <td>17.32</td>\n      <td>9.10</td>\n      <td>6.05</td>\n      <td>6.62</td>\n      <td>3.65</td>\n      <td>3.68</td>\n      <td>0.02</td>\n      <td>0.03</td>\n      <td>1.45</td>\n      <td>86.20</td>\n      <td>117.0</td>\n    </tr>\n    <tr>\n      <th>1</th>\n      <td>ASHO3</td>\n      <td>ASHLAND</td>\n      <td>0.38</td>\n      <td>3.50</td>\n      <td>3.41</td>\n      <td>1.32</td>\n      <td>1.29</td>\n      <td>1.29</td>\n      <td>2.92</td>\n      <td>1.88</td>\n      <td>0.08</td>\n      <td>0.28</td>\n      <td>0.00</td>\n      <td>0.20</td>\n      <td>16.55</td>\n      <td>84.0</td>\n    </tr>\n    <tr>\n      <th>2</th>\n      <td>CVJO3</td>\n      <td>CAVE JUNCTION</td>\n      <td>2.46</td>\n      <td>13.60</td>\n      <td>14.81</td>\n      <td>9.76</td>\n      <td>6.46</td>\n      <td>4.63</td>\n      <td>1.94</td>\n      <td>0.89</td>\n      <td>0.00</td>\n      <td>0.00</td>\n      <td>0.00</td>\n      <td>0.33</td>\n      <td>54.88</td>\n      <td>88.0</td>\n    </tr>\n    <tr>\n      <th>3</th>\n      <td>GOLO3</td>\n      <td>GOLD BEACH</td>\n      <td>4.63</td>\n      <td>11.72</td>\n      <td>16.59</td>\n      <td>14.58</td>\n      <td>8.89</td>\n      <td>6.62</td>\n      <td>4.73</td>\n      <td>1.50</td>\n      <td>2.09</td>\n      <td>0.02</td>\n      <td>0.00</td>\n      <td>0.62</td>\n      <td>71.99</td>\n      <td>91.0</td>\n    </tr>\n    <tr>\n      <th>4</th>\n      <td>GPSO3</td>\n      <td>GRANTS PASS KAJO</td>\n      <td>0.39</td>\n      <td>6.37</td>\n      <td>6.94</td>\n      <td>4.31</td>\n      <td>2.89</td>\n      <td>1.36</td>\n      <td>0.87</td>\n      <td>0.62</td>\n      <td>0.02</td>\n      <td>0.00</td>\n      <td>0.00</td>\n      <td>0.05</td>\n      <td>23.82</td>\n      <td>77.0</td>\n    </tr>\n    <tr>\n      <th>...</th>\n      <td>...</td>\n      <td>...</td>\n      <td>...</td>\n      <td>...</td>\n      <td>...</td>\n      <td>...</td>\n      <td>...</td>\n      <td>...</td>\n      <td>...</td>\n      <td>...</td>\n      <td>...</td>\n      <td>...</td>\n      <td>...</td>\n      <td>...</td>\n      <td>...</td>\n      <td>...</td>\n    </tr>\n    <tr>\n      <th>319</th>\n      <td>LENN2</td>\n      <td>GREAT BASIN N P</td>\n      <td>0.97</td>\n      <td>1.44</td>\n      <td>0.98</td>\n      <td>0.75</td>\n      <td>0.30</td>\n      <td>0.99</td>\n      <td>1.42</td>\n      <td>0.53</td>\n      <td>1.48</td>\n      <td>1.28</td>\n      <td>0.33</td>\n      <td>1.09</td>\n      <td>11.56</td>\n      <td>85.0</td>\n    </tr>\n    <tr>\n      <th>320</th>\n      <td>MNTN2</td>\n      <td>MONTELLO</td>\n      <td>0.03</td>\n      <td>1.22</td>\n      <td>0.40</td>\n      <td>0.85</td>\n      <td>0.00</td>\n      <td>0.43</td>\n      <td>1.44</td>\n      <td>0.75</td>\n      <td>0.31</td>\n      <td>0.67</td>\n      <td>0.00</td>\n      <td>1.51</td>\n      <td>7.61</td>\n      <td>90.0</td>\n    </tr>\n    <tr>\n      <th>321</th>\n      <td>CDEU1</td>\n      <td>CEDAR CITY 5E</td>\n      <td>0.30</td>\n      <td>1.00</td>\n      <td>1.05</td>\n      <td>0.32</td>\n      <td>0.25</td>\n      <td>0.94</td>\n      <td>0.24</td>\n      <td>0.02</td>\n      <td>0.00</td>\n      <td>0.39</td>\n      <td>0.18</td>\n      <td>1.46</td>\n      <td>6.15</td>\n      <td>41.0</td>\n    </tr>\n    <tr>\n      <th>322</th>\n      <td>EMRU1</td>\n      <td>ENTERPRISE</td>\n      <td>0.47</td>\n      <td>1.34</td>\n      <td>0.65</td>\n      <td>0.03</td>\n      <td>0.03</td>\n      <td>0.10</td>\n      <td>0.38</td>\n      <td>0.00</td>\n      <td>0.00</td>\n      <td>0.13</td>\n      <td>0.00</td>\n      <td>1.81</td>\n      <td>4.94</td>\n      <td>33.0</td>\n    </tr>\n    <tr>\n      <th>323</th>\n      <td>MLFU1</td>\n      <td>MILFORD</td>\n      <td>0.25</td>\n      <td>0.93</td>\n      <td>1.07</td>\n      <td>0.18</td>\n      <td>0.15</td>\n      <td>1.20</td>\n      <td>0.83</td>\n      <td>0.02</td>\n      <td>0.02</td>\n      <td>1.06</td>\n      <td>0.35</td>\n      <td>1.40</td>\n      <td>7.46</td>\n      <td>73.0</td>\n    </tr>\n  </tbody>\n</table>\n<p>306 rows × 16 columns</p>\n</div>"
     },
     "metadata": {},
     "execution_count": 148
    }
   ],
   "source": [
    "data_2002.dropna()"
   ]
  },
  {
   "cell_type": "code",
   "execution_count": null,
   "metadata": {},
   "outputs": [],
   "source": []
  }
 ]
}