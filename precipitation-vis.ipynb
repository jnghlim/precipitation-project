{
 "metadata": {
  "language_info": {
   "codemirror_mode": {
    "name": "ipython",
    "version": 3
   },
   "file_extension": ".py",
   "mimetype": "text/x-python",
   "name": "python",
   "nbconvert_exporter": "python",
   "pygments_lexer": "ipython3",
   "version": "3.8.5"
  },
  "orig_nbformat": 4,
  "kernelspec": {
   "name": "python3",
   "display_name": "Python 3.8.5 64-bit ('base': conda)"
  },
  "interpreter": {
   "hash": "73b6ae8506bdc19ed589a00e1d262f774847aba16200b38cb2aa76144baf0813"
  }
 },
 "nbformat": 4,
 "nbformat_minor": 2,
 "cells": [
  {
   "cell_type": "code",
   "execution_count": 1,
   "metadata": {},
   "outputs": [],
   "source": [
    "import pandas as pd\n",
    "import numpy as np"
   ]
  },
  {
   "cell_type": "code",
   "execution_count": 4,
   "metadata": {},
   "outputs": [],
   "source": [
    "precip_data_2002 = pd.read_csv(\"weather_of_2002.csv\")"
   ]
  },
  {
   "cell_type": "code",
   "execution_count": 5,
   "metadata": {},
   "outputs": [
    {
     "output_type": "execute_result",
     "data": {
      "text/plain": [
       "      ID          LOCATION   OCT    NOV    DEC    JAN   FEB   MAR   APR   MAY  \\\n",
       "0    4BK         BROOKINGS  6.43  14.53  17.32  17.32  9.10  6.05  6.62  3.65   \n",
       "1  ASHO3           ASHLAND  0.38   3.50   3.41   1.32  1.29  1.29  2.92  1.88   \n",
       "2  CVJO3     CAVE JUNCTION  2.46  13.60  14.81   9.76  6.46  4.63  1.94  0.89   \n",
       "3  GOLO3        GOLD BEACH  4.63  11.72  16.59  14.58  8.89  6.62  4.73  1.50   \n",
       "4  GPSO3  GRANTS PASS KAJO  0.39   6.37   6.94   4.31  2.89  1.36  0.87  0.62   \n",
       "\n",
       "    JUN   JUL   AUG   SEP  WY Total  Pct Avg to Date  \n",
       "0  3.68  0.02  0.03  1.45     86.20            117.0  \n",
       "1  0.08  0.28  0.00  0.20     16.55             84.0  \n",
       "2  0.00  0.00  0.00  0.33     54.88             88.0  \n",
       "3  2.09  0.02  0.00  0.62     71.99             91.0  \n",
       "4  0.02  0.00  0.00  0.05     23.82             77.0  "
      ],
      "text/html": "<div>\n<style scoped>\n    .dataframe tbody tr th:only-of-type {\n        vertical-align: middle;\n    }\n\n    .dataframe tbody tr th {\n        vertical-align: top;\n    }\n\n    .dataframe thead th {\n        text-align: right;\n    }\n</style>\n<table border=\"1\" class=\"dataframe\">\n  <thead>\n    <tr style=\"text-align: right;\">\n      <th></th>\n      <th>ID</th>\n      <th>LOCATION</th>\n      <th>OCT</th>\n      <th>NOV</th>\n      <th>DEC</th>\n      <th>JAN</th>\n      <th>FEB</th>\n      <th>MAR</th>\n      <th>APR</th>\n      <th>MAY</th>\n      <th>JUN</th>\n      <th>JUL</th>\n      <th>AUG</th>\n      <th>SEP</th>\n      <th>WY Total</th>\n      <th>Pct Avg to Date</th>\n    </tr>\n  </thead>\n  <tbody>\n    <tr>\n      <th>0</th>\n      <td>4BK</td>\n      <td>BROOKINGS</td>\n      <td>6.43</td>\n      <td>14.53</td>\n      <td>17.32</td>\n      <td>17.32</td>\n      <td>9.10</td>\n      <td>6.05</td>\n      <td>6.62</td>\n      <td>3.65</td>\n      <td>3.68</td>\n      <td>0.02</td>\n      <td>0.03</td>\n      <td>1.45</td>\n      <td>86.20</td>\n      <td>117.0</td>\n    </tr>\n    <tr>\n      <th>1</th>\n      <td>ASHO3</td>\n      <td>ASHLAND</td>\n      <td>0.38</td>\n      <td>3.50</td>\n      <td>3.41</td>\n      <td>1.32</td>\n      <td>1.29</td>\n      <td>1.29</td>\n      <td>2.92</td>\n      <td>1.88</td>\n      <td>0.08</td>\n      <td>0.28</td>\n      <td>0.00</td>\n      <td>0.20</td>\n      <td>16.55</td>\n      <td>84.0</td>\n    </tr>\n    <tr>\n      <th>2</th>\n      <td>CVJO3</td>\n      <td>CAVE JUNCTION</td>\n      <td>2.46</td>\n      <td>13.60</td>\n      <td>14.81</td>\n      <td>9.76</td>\n      <td>6.46</td>\n      <td>4.63</td>\n      <td>1.94</td>\n      <td>0.89</td>\n      <td>0.00</td>\n      <td>0.00</td>\n      <td>0.00</td>\n      <td>0.33</td>\n      <td>54.88</td>\n      <td>88.0</td>\n    </tr>\n    <tr>\n      <th>3</th>\n      <td>GOLO3</td>\n      <td>GOLD BEACH</td>\n      <td>4.63</td>\n      <td>11.72</td>\n      <td>16.59</td>\n      <td>14.58</td>\n      <td>8.89</td>\n      <td>6.62</td>\n      <td>4.73</td>\n      <td>1.50</td>\n      <td>2.09</td>\n      <td>0.02</td>\n      <td>0.00</td>\n      <td>0.62</td>\n      <td>71.99</td>\n      <td>91.0</td>\n    </tr>\n    <tr>\n      <th>4</th>\n      <td>GPSO3</td>\n      <td>GRANTS PASS KAJO</td>\n      <td>0.39</td>\n      <td>6.37</td>\n      <td>6.94</td>\n      <td>4.31</td>\n      <td>2.89</td>\n      <td>1.36</td>\n      <td>0.87</td>\n      <td>0.62</td>\n      <td>0.02</td>\n      <td>0.00</td>\n      <td>0.00</td>\n      <td>0.05</td>\n      <td>23.82</td>\n      <td>77.0</td>\n    </tr>\n  </tbody>\n</table>\n</div>"
     },
     "metadata": {},
     "execution_count": 5
    }
   ],
   "source": [
    "precip_data_2002.head()"
   ]
  }
 ]
}